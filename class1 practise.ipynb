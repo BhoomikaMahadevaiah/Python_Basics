{
 "cells": [
  {
   "cell_type": "markdown",
   "id": "071112d1-969b-42fb-9df2-abbe94015bc6",
   "metadata": {},
   "source": [
    "\n",
    " variables"
   ]
  },
  {
   "cell_type": "code",
   "execution_count": 10,
   "id": "afb51fb3-ac95-443a-9c26-3d6ce1da706d",
   "metadata": {},
   "outputs": [
    {
     "name": "stdout",
     "output_type": "stream",
     "text": [
      "python first session\n"
     ]
    }
   ],
   "source": [
    "a = 'python first session'\n",
    "print(a)"
   ]
  },
  {
   "cell_type": "markdown",
   "id": "b65b70f9-df29-49f2-909c-d91ac289a6cb",
   "metadata": {},
   "source": [
    "literals"
   ]
  },
  {
   "cell_type": "code",
   "execution_count": 13,
   "id": "5e3a6948-6ac3-45b4-aaac-affc220c25e2",
   "metadata": {},
   "outputs": [
    {
     "name": "stdout",
     "output_type": "stream",
     "text": [
      "bhoomi\n",
      "90\n",
      "5.4\n",
      "True\n"
     ]
    }
   ],
   "source": [
    "apple_price= 90\n",
    "name= \"bhoomi\"\n",
    "height=5.4\n",
    "is_student = True\n",
    "print(name)\n",
    "print(apple_price)\n",
    "print(height)\n",
    "print(is_student)\n",
    "\n"
   ]
  },
  {
   "cell_type": "markdown",
   "id": "70942276-172b-4835-a618-96faa228935e",
   "metadata": {},
   "source": [
    "operators"
   ]
  },
  {
   "cell_type": "code",
   "execution_count": 24,
   "id": "6964fbd3-1062-48c2-957e-fe94c93424b4",
   "metadata": {},
   "outputs": [
    {
     "name": "stdout",
     "output_type": "stream",
     "text": [
      "115\n"
     ]
    }
   ],
   "source": [
    "apple=100\n",
    "banana=15\n",
    "print(apple+banana)"
   ]
  },
  {
   "cell_type": "code",
   "execution_count": 25,
   "id": "9519cf8d-b876-4d77-8519-54713783745a",
   "metadata": {},
   "outputs": [
    {
     "name": "stdout",
     "output_type": "stream",
     "text": [
      "81\n"
     ]
    }
   ],
   "source": [
    "orange=100\n",
    "banana=19\n",
    "print(orange-banana)"
   ]
  },
  {
   "cell_type": "code",
   "execution_count": 26,
   "id": "edf6cdd7-61fe-44e4-84d6-ca1421a30b3e",
   "metadata": {},
   "outputs": [
    {
     "name": "stdout",
     "output_type": "stream",
     "text": [
      "1500\n"
     ]
    }
   ],
   "source": [
    "apple=100\n",
    "banana=15\n",
    "print(apple*banana)"
   ]
  },
  {
   "cell_type": "code",
   "execution_count": 27,
   "id": "6ff2e8e3-0cca-4294-abc4-ac1b219ee3cd",
   "metadata": {},
   "outputs": [
    {
     "name": "stdout",
     "output_type": "stream",
     "text": [
      "6.666666666666667\n"
     ]
    }
   ],
   "source": [
    "apple=100\n",
    "banana=15\n",
    "print(apple/banana)"
   ]
  },
  {
   "cell_type": "code",
   "execution_count": 28,
   "id": "8df634ec-d9e9-4ce2-9868-04d5907773cd",
   "metadata": {},
   "outputs": [
    {
     "name": "stdout",
     "output_type": "stream",
     "text": [
      "6\n"
     ]
    }
   ],
   "source": [
    "apple=100\n",
    "banana=15\n",
    "print(apple//banana)"
   ]
  },
  {
   "cell_type": "code",
   "execution_count": 29,
   "id": "9ec4ec8e-80c3-4baf-b9ee-11a689fa03e0",
   "metadata": {},
   "outputs": [
    {
     "name": "stdout",
     "output_type": "stream",
     "text": [
      "10\n"
     ]
    }
   ],
   "source": [
    "apple=100\n",
    "banana=15\n",
    "print(apple%banana)"
   ]
  },
  {
   "cell_type": "code",
   "execution_count": 30,
   "id": "8ba3433c-fa2c-4011-b057-60cc992878d1",
   "metadata": {},
   "outputs": [
    {
     "name": "stdout",
     "output_type": "stream",
     "text": [
      "1000000000000000000000000000000\n"
     ]
    }
   ],
   "source": [
    "apple=100\n",
    "banana=15\n",
    "print(apple**banana)"
   ]
  },
  {
   "cell_type": "markdown",
   "id": "c82f8bfb-60c7-4e15-bd5e-89a01933bba7",
   "metadata": {},
   "source": [
    "functions"
   ]
  },
  {
   "cell_type": "code",
   "execution_count": 39,
   "id": "097e8562-51c7-4cf6-9e14-76623e388062",
   "metadata": {},
   "outputs": [
    {
     "name": "stdin",
     "output_type": "stream",
     "text": [
      "very hot today: yes\n"
     ]
    },
    {
     "name": "stdout",
     "output_type": "stream",
     "text": [
      "humid: yes\n"
     ]
    }
   ],
   "source": [
    "today_temp=input('very hot today:')\n",
    "print('humid:',today_temp)\n"
   ]
  },
  {
   "cell_type": "code",
   "execution_count": null,
   "id": "dbbc91fb-0024-4f58-880a-622310135454",
   "metadata": {},
   "outputs": [],
   "source": []
  }
 ],
 "metadata": {
  "kernelspec": {
   "display_name": "Python 3 (ipykernel)",
   "language": "python",
   "name": "python3"
  },
  "language_info": {
   "codemirror_mode": {
    "name": "ipython",
    "version": 3
   },
   "file_extension": ".py",
   "mimetype": "text/x-python",
   "name": "python",
   "nbconvert_exporter": "python",
   "pygments_lexer": "ipython3",
   "version": "3.12.7"
  }
 },
 "nbformat": 4,
 "nbformat_minor": 5
}
